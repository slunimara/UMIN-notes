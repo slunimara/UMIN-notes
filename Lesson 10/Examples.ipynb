{
 "cells": [
  {
   "cell_type": "markdown",
   "metadata": {},
   "source": [
    "## Evoluční algoritmy\n",
    "- nejprve si ukážeme příklad evolučního algoritmu pro řešení problému batohu (konkrétně 0-1 knapsack problem)\n",
    "    - položky jsou předměty $x_i$ s vahou $w_i$ a cenou $c_i$\n",
    "    - cílem problému je vybrat z pevně danné množiny $n$ položek jejich podmnožinu $I$ tak, že:\n",
    "        1. váha vybraných položek je menší rovna kapacitě W batohu $$\\sum_{I}{w_i} \\le W$$\n",
    "        2. zároveň se snažíme maximalizovat jejich cenu $$\\max \\sum_{I}{c_i}$$\n",
    "- problém lze řešit řadou typů algoritmů (greedy, dynamicky, bruteforce)"
   ]
  },
  {
   "cell_type": "code",
   "execution_count": null,
   "metadata": {},
   "outputs": [],
   "source": [
    "# Nejprve ukázka klasického řešení pomocí Greedy algoritmu\n",
    "# V kazdé iteraci se vybere aktuálně nejvýhodnější možnost – instance, která neporuší podmínku váhy a zároveň přidá největší cenu\n",
    "def greedy_knapsack(instances: list, bound: int) -> list:\n",
    "    # Seřazení podle ceny instancí – O(nlogn)\n",
    "    instances = sorted(instances, key=lambda i: i[2], reverse=True)\n",
    "\n",
    "    # Aktuální kapacita\n",
    "    knapsack_capacity = 0\n",
    "    # Vybrané instance\n",
    "    solution = []\n",
    "    while len(instances):\n",
    "        i = instances.pop(0)\n",
    "        id, w, _ = i\n",
    "\n",
    "        if knapsack_capacity + w <= bound:\n",
    "            knapsack_capacity += w\n",
    "            solution.append(id)\n",
    "\n",
    "        if knapsack_capacity == bound:\n",
    "            break\n",
    "\n",
    "    return solution"
   ]
  },
  {
   "cell_type": "code",
   "execution_count": 2,
   "metadata": {},
   "outputs": [
    {
     "name": "stdout",
     "output_type": "stream",
     "text": [
      "Instances: [(0, 7, 5), (1, 3, 4), (2, 5, 7), (3, 9, 6)]\n"
     ]
    }
   ],
   "source": [
    "# Instanci reprezentuji jako trojici (id, váha, cena)\n",
    "instances = [(0, 7, 5), (1, 3, 4), (2, 5, 7), (3, 9, 6)]\n",
    "print(\"Instances:\", instances)"
   ]
  },
  {
   "cell_type": "code",
   "execution_count": 3,
   "metadata": {},
   "outputs": [
    {
     "name": "stdout",
     "output_type": "stream",
     "text": [
      "Greedy Algorithm result:\n",
      "(2, 5, 7)\n",
      "(3, 9, 6)\n"
     ]
    }
   ],
   "source": [
    "knapsack_capacity = 15\n",
    "idx = greedy_knapsack(instances, knapsack_capacity)\n",
    "\n",
    "print(\"Greedy Algorithm result:\")\n",
    "for i in idx:\n",
    "    print(instances[i])"
   ]
  },
  {
   "cell_type": "markdown",
   "metadata": {},
   "source": [
    "Je výsledek greedy algoritmu optimum?"
   ]
  },
  {
   "cell_type": "markdown",
   "metadata": {},
   "source": [
    "## Evoluční proces\n",
    "- pro jednoduchost využijeme pseudokódu od doc. Konečného"
   ]
  },
  {
   "cell_type": "raw",
   "metadata": {
    "vscode": {
     "languageId": "raw"
    }
   },
   "source": [
    "t ← 0;\n",
    "initialize-population(t);\n",
    "evaluate-population(t);\n",
    "while not termination-criterion do\n",
    "    t ← t + 1;\n",
    "    select population(t) from population(t - 1);\n",
    "    genetic-alter population(t);\n",
    "    evaluate-population(t);\n",
    "end"
   ]
  },
  {
   "cell_type": "code",
   "execution_count": null,
   "metadata": {},
   "outputs": [],
   "source": [
    "import random\n",
    "\n",
    "class GeneticKnapsack():\n",
    "    def __init__(self, instances, knapsack_capacity):\n",
    "        self.instances = instances\n",
    "        self.knapsack_capacity = knapsack_capacity\n",
    "        self.initial_population_size = 4\n",
    "\n",
    "        # Pravděpodobnost s jakou dojde k mutaci\n",
    "        self.mutation_rate = 0.01\n",
    "        \n",
    "        # Pravděpodobnost s jakou dojde k rekombinaci (křížení) genetické informace\n",
    "        self.crossover_rate = 0.5\n",
    "\n",
    "        # Pravděpodobnost s jakou dojde k reprodukci, tj. proces předávání jedince v nezměněné podobě z jedné generace do druhé bez mutace nebo křížení \n",
    "        self.reproduction_rate = 0.30\n",
    "        self.reproduction_count = 2\n",
    "\n",
    "    def next_generation(self, population):\n",
    "        next_gen = []\n",
    "        while len(next_gen) < len(population):\n",
    "            # Přirozený výběr (selekce)\n",
    "            parents = self.selection(population)\n",
    "\n",
    "            # Reprodukce\n",
    "            if random.random() < self.reproduction_rate:\n",
    "                p = sorted(population, key=lambda i: self.fitness(i), reverse=True)\n",
    "                next_gen.extend(p[:self.reproduction_count])\n",
    "\n",
    "            # Rekombinace\n",
    "            if random.random() < self.crossover_rate:\n",
    "                child1, child2 = self.crossover(parents[0], parents[1])\n",
    "\n",
    "                # Mutace\n",
    "                candidate1 = self.mutation(child1)\n",
    "                candidate2 = self.mutation(child2)\n",
    "            else:\n",
    "                candidate1 = parents[0]\n",
    "                candidate2 = parents[1]\n",
    "                \n",
    "            next_gen.append(candidate1) \n",
    "            next_gen.append(candidate2) \n",
    "\n",
    "        return next_gen[:len(population)]\n",
    "    \n",
    "    def evolution(self):\n",
    "        time_step = 0\n",
    "        population = self.generate_initial_population()\n",
    "\n",
    "        # Naše ukončovací podmínka je stanovena na pevný počet iterací.\n",
    "        while time_step < 500:\n",
    "            time_step += 1\n",
    "            population = self.next_generation(population)\n",
    "\n",
    "        population = sorted(population, key=lambda i: self.fitness(i), reverse=True)\n",
    "        best_instance = population[0]\n",
    "\n",
    "        result = []\n",
    "        for i in range(len(instances)):\n",
    "            if best_instance[i] == '1':\n",
    "                result.append(i)\n",
    "        return result\n",
    "\n",
    "    def generate_initial_population(self):\n",
    "        \"Vytvoří count počet počátečních kandidátu, každý ve formě n bitových řetězců, kde n je počet instancí.\"\n",
    "        population = set()\n",
    "        # Počet instancí\n",
    "        n = len(self.instances)\n",
    "\n",
    "        # Tvorba kandidáta\n",
    "        while len(population) < self.initial_population_size:\n",
    "            candidate = ''.join(random.choice('01') for _ in range(n))\n",
    "            population.add(candidate)\n",
    "        \n",
    "        return list(population)\n",
    "\n",
    "    def fitness(self, individual):\n",
    "        \"Vrací fitness kandidáta jako součet všech cen vybraných instancí.\"\n",
    "        candidate_weight = 0\n",
    "        candidate_cost = 0\n",
    "\n",
    "        # Funkce zip funguje následovně: zip([1, 2], [\"a\", \"b\"]) –> [[1, \"a\"], [2, \"b\"]]\n",
    "        for gene, instance in zip(individual, self.instances):\n",
    "            if gene == '1':\n",
    "                candidate_weight += instance[1]\n",
    "                candidate_cost += instance[2]\n",
    "                if candidate_weight > self.knapsack_capacity:\n",
    "                    # Nekorektní řešení, protože součet vah kandidáte převýšil kapacitu batohu.\n",
    "                    return 0  \n",
    "        return candidate_cost\n",
    "    \n",
    "    def selection(self, population):\n",
    "        \"Vybere dva kandidáty z populace pomocí turnajového výběru\"\n",
    "        parents = []\n",
    "        random.shuffle(population)\n",
    "\n",
    "        if len(population) < 4:\n",
    "            # Vyber nějaké dva pokud je populace malá.\n",
    "            return population[:2]\n",
    "        \n",
    "        # turnajový výběr mezi prvním a druhým\n",
    "        a = population[0]\n",
    "        b = population[1]\n",
    "        if self.fitness(a) > self.fitness(b):\n",
    "            parents.append(a)\n",
    "        else:\n",
    "            parents.append(b)\n",
    "\n",
    "        # turnajový výběr mezi třetím a čtvrtým\n",
    "        c = population[2]\n",
    "        d = population[3]\n",
    "        if self.fitness(c) > self.fitness(d):\n",
    "            parents.append(c)\n",
    "        else:\n",
    "            parents.append(d)\n",
    "\n",
    "        return parents\n",
    "\n",
    "    def crossover(self, parent1, parent2):\n",
    "        \"Jednoduché rovnoměrné křížení mezi dvěma rodiči. Opět lze řešit různými způsoby: single-point crossover, two-point crossover, multi-point crossover, uniform crossover a nebo arithmetic crossover\"\n",
    "        n = len(parent1)\n",
    "        middle = n // 2\n",
    "        child1 = parent1[:middle] + parent2[middle:]\n",
    "        child2 = parent2[:middle] + parent1[middle:]\n",
    "        return child1, child2\n",
    "    \n",
    "    def mutation(self, individual):\n",
    "        \"Mutace kandidáta s danou pravděpodobností mutace.\"\n",
    "        individual = list(individual)\n",
    "        for i in range(len(individual)):\n",
    "            # Random.random() vrací číslo z intervalu [0, 1) \n",
    "            if random.random() < self.mutation_rate:\n",
    "                individual[i] = '1' if individual[i] == '0' else '0'\n",
    "        return ''.join(individual)"
   ]
  },
  {
   "cell_type": "code",
   "execution_count": 238,
   "metadata": {},
   "outputs": [
    {
     "name": "stdout",
     "output_type": "stream",
     "text": [
      "Genetic Algorithm result:\n",
      "(0, 7, 5)\n",
      "(1, 3, 4)\n",
      "(2, 5, 7)\n"
     ]
    }
   ],
   "source": [
    "knapsack_capacity = 15\n",
    "\n",
    "idx = GeneticKnapsack(instances, knapsack_capacity).evolution()\n",
    "\n",
    "print(\"Genetic Algorithm result:\")\n",
    "for i in idx:\n",
    "    print(instances[i])"
   ]
  },
  {
   "cell_type": "code",
   "execution_count": 254,
   "metadata": {},
   "outputs": [
    {
     "data": {
      "image/png": "[encoded data removed]",
      "text/plain": [
       "<Figure size 640x480 with 1 Axes>"
      ]
     },
     "metadata": {},
     "output_type": "display_data"
    }
   ],
   "source": [
    "import pandas as pd\n",
    "import seaborn as sns\n",
    "\n",
    "# Teď jen pro představu:\n",
    "history = {}\n",
    "for _ in range(500):\n",
    "    idx = GeneticKnapsack(instances, knapsack_capacity).evolution()\n",
    "\n",
    "    value = sum(map(lambda x: instances[x][2], idx))\n",
    "    key = f\"{str(idx)} ({value})\"\n",
    "    if key in history:\n",
    "        history[key] += 1\n",
    "    else:\n",
    "        history[key] = 1\n",
    "\n",
    "history_df = pd.DataFrame(list(history.items()), columns=['Instance', 'Frekvence'])\n",
    "\n",
    "sns.barplot(x=history_df['Instance'], y=history_df['Frekvence'])\n",
    "pass"
   ]
  },
  {
   "cell_type": "code",
   "execution_count": null,
   "metadata": {},
   "outputs": [],
   "source": [
    "# Pro zájemce o neuroevolution doporučuji navštívit: https://github.com/google/evojax/tree/main/examples"
   ]
  }
 ],
 "metadata": {
  "kernelspec": {
   "display_name": ".env",
   "language": "python",
   "name": "python3"
  },
  "language_info": {
   "codemirror_mode": {
    "name": "ipython",
    "version": 3
   },
   "file_extension": ".py",
   "mimetype": "text/x-python",
   "name": "python",
   "nbconvert_exporter": "python",
   "pygments_lexer": "ipython3",
   "version": "3.10.15"
  }
 },
 "nbformat": 4,
 "nbformat_minor": 2
}

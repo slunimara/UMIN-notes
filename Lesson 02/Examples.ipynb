{
 "cells": [
  {
   "cell_type": "code",
   "execution_count": 137,
   "metadata": {},
   "outputs": [],
   "source": [
    "# Importujeme si opět knihovny jako minule\n",
    "import numpy as np\n",
    "import pandas as pd\n",
    "import matplotlib.pyplot as plt\n",
    "import seaborn as sns"
   ]
  },
  {
   "cell_type": "code",
   "execution_count": 138,
   "metadata": {},
   "outputs": [],
   "source": [
    "LEARNING_RATE = 0.1\n",
    "EPOCHS = 10\n",
    "\n",
    "def neuron_activation(percepton_value):\n",
    "    # Aktivační funkce (schodková)\n",
    "    return 1 if percepton_value >= 0 else 0\n",
    "\n",
    "def train_perceptron(inputs, expected_output) -> tuple[np.ndarray, float]:\n",
    "    # Implementace neuronu\n",
    "    weights = np.random.rand(inputs.shape[1])\n",
    "    bias = 0\n",
    "\n",
    "    for _ in range(EPOCHS):\n",
    "        for x, y in zip(inputs, expected_output):\n",
    "            percepton_value = np.dot(x, weights) + bias \n",
    "            activated = neuron_activation(percepton_value)\n",
    "\n",
    "            if y and not activated:\n",
    "                weights = weights + x * LEARNING_RATE\n",
    "                bias = bias + LEARNING_RATE\n",
    "            \n",
    "            if not y and activated:\n",
    "                weights = weights - x * LEARNING_RATE\n",
    "                bias = bias - LEARNING_RATE\n",
    "\n",
    "    return weights, bias\n",
    "\n",
    "def plot_data(points: np.ndarray, labels: np.ndarray, weights: np.ndarray, bias: int):\n",
    "    # vykreslení dat\n",
    "    \n",
    "    _, ax = plt.subplots()\n",
    "    \n",
    "    # Vykreslí osy\n",
    "    plt.axhline(0, color='black')\n",
    "    plt.axvline(0, color='black')\n",
    "\n",
    "    # Vykreslí body\n",
    "    for point, label  in zip(points, labels):\n",
    "        color = \"red\" if label else \"blue\"\n",
    "        plt.plot(point[0], point[1], c = color, marker=\"o\")\n",
    "\n",
    "    # Vykreslí separující přímku\n",
    "    a, b = weights\n",
    "    c = bias\n",
    "\n",
    "    py_1 = (-(a * 1 + c)) / b\n",
    "    py_2 = (-(a * 2 + c)) / b\n",
    "    \n",
    "    ax.axline((1, py_1), (2, py_2), linewidth=1, color='g')\n",
    "\n",
    "    plt.show()"
   ]
  },
  {
   "cell_type": "code",
   "execution_count": 139,
   "metadata": {},
   "outputs": [
    {
     "name": "stdout",
     "output_type": "stream",
     "text": [
      "Trained weights: [-0.04341024  0.04662214].\n",
      "Trained bias: 0.0\n",
      "For input [0 0] neuron activated.\n",
      "For input [0 1] neuron activated.\n",
      "For input [1 0] neuron not activated.\n",
      "For input [1 1] neuron activated.\n"
     ]
    },
    {
     "data": {
      "image/png": "[encoded data removed]",
      "text/plain": [
       "<Figure size 640x480 with 1 Axes>"
      ]
     },
     "metadata": {},
     "output_type": "display_data"
    }
   ],
   "source": [
    "# (NE)naučení neuronu funkci XOR\n",
    "inputs = np.array([[0, 0], [0, 1], [1, 0], [1, 1]])\n",
    "expected_output = np.array([0, 1, 1, 0])\n",
    "\n",
    "weights, bias = train_perceptron(inputs, expected_output)\n",
    "\n",
    "print(\"Trained weights: {}.\\nTrained bias: {}\".format(weights, bias))\n",
    "\n",
    "for x in inputs:\n",
    "    percepton_value = np.dot(x, weights) + bias\n",
    "    activation = neuron_activation(percepton_value)\n",
    "    print(\"For input {} neuron {}.\".format(x, \"activated\" if activation else \"not activated\"))\n",
    "\n",
    "plot_data(inputs, expected_output, weights, bias)"
   ]
  },
  {
   "cell_type": "code",
   "execution_count": 140,
   "metadata": {},
   "outputs": [
    {
     "name": "stdout",
     "output_type": "stream",
     "text": [
      "TensorFlow version: 2.16.2\n",
      "Keras version: 3.5.0\n"
     ]
    }
   ],
   "source": [
    "# Keras je knihovna která nabízí stavební kameny pro tvorbu deep-learningových modelů\n",
    "# Neumí pracovávat nízkoúrovňové operace (manipulace s tensory)\n",
    "# proto jako backend použijeme TensorFlow.\n",
    "import os\n",
    "\n",
    "# Tento notebook je spustitelný pouze s TF na backendu.\n",
    "os.environ[\"KERAS_BACKEND\"] = \"tensorflow\"\n",
    "\n",
    "import tensorflow as tf\n",
    "import keras\n",
    "\n",
    "print(f\"TensorFlow version: {tf.__version__}\")\n",
    "print(f\"Keras version: {keras.__version__}\")\n",
    "\n",
    "from keras import layers"
   ]
  },
  {
   "cell_type": "code",
   "execution_count": 141,
   "metadata": {},
   "outputs": [
    {
     "name": "stderr",
     "output_type": "stream",
     "text": [
      "/Users/hradzpisku/Documents/Projects/UMIN/.venv/lib/python3.12/site-packages/keras/src/layers/core/dense.py:87: UserWarning: Do not pass an `input_shape`/`input_dim` argument to a layer. When using Sequential models, prefer using an `Input(shape)` object as the first layer in the model instead.\n",
      "  super().__init__(activity_regularizer=activity_regularizer, **kwargs)\n"
     ]
    },
    {
     "name": "stdout",
     "output_type": "stream",
     "text": [
      "For input [0 0] network predicted 0.05 –> False. \n",
      "For input [0 1] network predicted 0.9 –> True. \n",
      "For input [1 0] network predicted 0.939 –> True. \n",
      "For input [1 1] network predicted 0.054 –> False. \n"
     ]
    }
   ],
   "source": [
    "# Naučení sítě funkce XOR\n",
    "inputs = np.array([[0, 0], [0, 1], [1, 0], [1, 1]])\n",
    "expected_output = np.array([[0], [1], [1], [0]])\n",
    "\n",
    "# Vytvoření modelu\n",
    "model = keras.Sequential([\n",
    "    layers.Dense(4, input_shape=[2], activation=\"tanh\"),\n",
    "    layers.Dense(1, activation=\"sigmoid\")\n",
    "])\n",
    "\n",
    "# Konfigurace modelu pro trénování\n",
    "model.compile(\n",
    "\toptimizer=\"adam\",\n",
    "\tloss=\"binary_crossentropy\",\n",
    ")\n",
    "\n",
    "# Trénování modelu\n",
    "trained = model.fit(inputs, expected_output, verbose=False, epochs=2000)\n",
    "\n",
    "# Vytvoření predikcí pro vstupy\n",
    "predictions = model.predict(inputs, verbose=False)\n",
    "\n",
    "for x, pred in zip(inputs, predictions):\n",
    "    print(f\"For input {x} network predicted {round(pred[0].item(), 3)} –> {pred[0] > 0.5}. \")"
   ]
  },
  {
   "cell_type": "code",
   "execution_count": 142,
   "metadata": {},
   "outputs": [
    {
     "name": "stdout",
     "output_type": "stream",
     "text": [
      "<class 'pandas.core.frame.DataFrame'>\n",
      "RangeIndex: 150 entries, 0 to 149\n",
      "Data columns (total 5 columns):\n",
      " #   Column             Non-Null Count  Dtype  \n",
      "---  ------             --------------  -----  \n",
      " 0   sepal length (cm)  150 non-null    float64\n",
      " 1   sepal width (cm)   150 non-null    float64\n",
      " 2   petal length (cm)  150 non-null    float64\n",
      " 3   petal width (cm)   150 non-null    float64\n",
      " 4   target             150 non-null    int64  \n",
      "dtypes: float64(4), int64(1)\n",
      "memory usage: 6.0 KB\n"
     ]
    }
   ],
   "source": [
    "# Nyní zpět k Kosatcům (https://www.reddit.com/r/datascience/comments/x6ji1j/happy_meme_monday/)\n",
    "from sklearn.datasets import load_iris\n",
    "iris = load_iris()\n",
    "\n",
    "feature_names = iris[\"feature_names\"]\n",
    "target_names = iris[\"target_names\"]\n",
    "\n",
    "instances_data = iris[\"data\"] \n",
    "instances_target = iris[\"target\"]\n",
    "\n",
    "data = pd.DataFrame(instances_data, \n",
    "             columns=feature_names)\n",
    "data[\"target\"] = instances_target\n",
    "\n",
    "data.info()"
   ]
  },
  {
   "cell_type": "code",
   "execution_count": 143,
   "metadata": {},
   "outputs": [
    {
     "data": {
      "text/html": [
       "<div>\n",
       "<style scoped>\n",
       "    .dataframe tbody tr th:only-of-type {\n",
       "        vertical-align: middle;\n",
       "    }\n",
       "\n",
       "    .dataframe tbody tr th {\n",
       "        vertical-align: top;\n",
       "    }\n",
       "\n",
       "    .dataframe thead th {\n",
       "        text-align: right;\n",
       "    }\n",
       "</style>\n",
       "<table border=\"1\" class=\"dataframe\">\n",
       "  <thead>\n",
       "    <tr style=\"text-align: right;\">\n",
       "      <th></th>\n",
       "      <th>sepal length (cm)</th>\n",
       "      <th>sepal width (cm)</th>\n",
       "      <th>petal length (cm)</th>\n",
       "      <th>petal width (cm)</th>\n",
       "      <th>target</th>\n",
       "    </tr>\n",
       "  </thead>\n",
       "  <tbody>\n",
       "    <tr>\n",
       "      <th>26</th>\n",
       "      <td>5.0</td>\n",
       "      <td>3.4</td>\n",
       "      <td>1.6</td>\n",
       "      <td>0.4</td>\n",
       "      <td>0</td>\n",
       "    </tr>\n",
       "    <tr>\n",
       "      <th>16</th>\n",
       "      <td>5.4</td>\n",
       "      <td>3.9</td>\n",
       "      <td>1.3</td>\n",
       "      <td>0.4</td>\n",
       "      <td>0</td>\n",
       "    </tr>\n",
       "    <tr>\n",
       "      <th>124</th>\n",
       "      <td>6.7</td>\n",
       "      <td>3.3</td>\n",
       "      <td>5.7</td>\n",
       "      <td>2.1</td>\n",
       "      <td>2</td>\n",
       "    </tr>\n",
       "    <tr>\n",
       "      <th>46</th>\n",
       "      <td>5.1</td>\n",
       "      <td>3.8</td>\n",
       "      <td>1.6</td>\n",
       "      <td>0.2</td>\n",
       "      <td>0</td>\n",
       "    </tr>\n",
       "    <tr>\n",
       "      <th>122</th>\n",
       "      <td>7.7</td>\n",
       "      <td>2.8</td>\n",
       "      <td>6.7</td>\n",
       "      <td>2.0</td>\n",
       "      <td>2</td>\n",
       "    </tr>\n",
       "    <tr>\n",
       "      <th>49</th>\n",
       "      <td>5.0</td>\n",
       "      <td>3.3</td>\n",
       "      <td>1.4</td>\n",
       "      <td>0.2</td>\n",
       "      <td>0</td>\n",
       "    </tr>\n",
       "    <tr>\n",
       "      <th>24</th>\n",
       "      <td>4.8</td>\n",
       "      <td>3.4</td>\n",
       "      <td>1.9</td>\n",
       "      <td>0.2</td>\n",
       "      <td>0</td>\n",
       "    </tr>\n",
       "    <tr>\n",
       "      <th>92</th>\n",
       "      <td>5.8</td>\n",
       "      <td>2.6</td>\n",
       "      <td>4.0</td>\n",
       "      <td>1.2</td>\n",
       "      <td>1</td>\n",
       "    </tr>\n",
       "    <tr>\n",
       "      <th>12</th>\n",
       "      <td>4.8</td>\n",
       "      <td>3.0</td>\n",
       "      <td>1.4</td>\n",
       "      <td>0.1</td>\n",
       "      <td>0</td>\n",
       "    </tr>\n",
       "    <tr>\n",
       "      <th>70</th>\n",
       "      <td>5.9</td>\n",
       "      <td>3.2</td>\n",
       "      <td>4.8</td>\n",
       "      <td>1.8</td>\n",
       "      <td>1</td>\n",
       "    </tr>\n",
       "    <tr>\n",
       "      <th>50</th>\n",
       "      <td>7.0</td>\n",
       "      <td>3.2</td>\n",
       "      <td>4.7</td>\n",
       "      <td>1.4</td>\n",
       "      <td>1</td>\n",
       "    </tr>\n",
       "    <tr>\n",
       "      <th>145</th>\n",
       "      <td>6.7</td>\n",
       "      <td>3.0</td>\n",
       "      <td>5.2</td>\n",
       "      <td>2.3</td>\n",
       "      <td>2</td>\n",
       "    </tr>\n",
       "    <tr>\n",
       "      <th>97</th>\n",
       "      <td>6.2</td>\n",
       "      <td>2.9</td>\n",
       "      <td>4.3</td>\n",
       "      <td>1.3</td>\n",
       "      <td>1</td>\n",
       "    </tr>\n",
       "    <tr>\n",
       "      <th>6</th>\n",
       "      <td>4.6</td>\n",
       "      <td>3.4</td>\n",
       "      <td>1.4</td>\n",
       "      <td>0.3</td>\n",
       "      <td>0</td>\n",
       "    </tr>\n",
       "    <tr>\n",
       "      <th>64</th>\n",
       "      <td>5.6</td>\n",
       "      <td>2.9</td>\n",
       "      <td>3.6</td>\n",
       "      <td>1.3</td>\n",
       "      <td>1</td>\n",
       "    </tr>\n",
       "  </tbody>\n",
       "</table>\n",
       "</div>"
      ],
      "text/plain": [
       "     sepal length (cm)  sepal width (cm)  petal length (cm)  petal width (cm)  \\\n",
       "26                 5.0               3.4                1.6               0.4   \n",
       "16                 5.4               3.9                1.3               0.4   \n",
       "124                6.7               3.3                5.7               2.1   \n",
       "46                 5.1               3.8                1.6               0.2   \n",
       "122                7.7               2.8                6.7               2.0   \n",
       "49                 5.0               3.3                1.4               0.2   \n",
       "24                 4.8               3.4                1.9               0.2   \n",
       "92                 5.8               2.6                4.0               1.2   \n",
       "12                 4.8               3.0                1.4               0.1   \n",
       "70                 5.9               3.2                4.8               1.8   \n",
       "50                 7.0               3.2                4.7               1.4   \n",
       "145                6.7               3.0                5.2               2.3   \n",
       "97                 6.2               2.9                4.3               1.3   \n",
       "6                  4.6               3.4                1.4               0.3   \n",
       "64                 5.6               2.9                3.6               1.3   \n",
       "\n",
       "     target  \n",
       "26        0  \n",
       "16        0  \n",
       "124       2  \n",
       "46        0  \n",
       "122       2  \n",
       "49        0  \n",
       "24        0  \n",
       "92        1  \n",
       "12        0  \n",
       "70        1  \n",
       "50        1  \n",
       "145       2  \n",
       "97        1  \n",
       "6         0  \n",
       "64        1  "
      ]
     },
     "execution_count": 143,
     "metadata": {},
     "output_type": "execute_result"
    }
   ],
   "source": [
    "data.sample(frac=0.1)"
   ]
  },
  {
   "cell_type": "code",
   "execution_count": 144,
   "metadata": {},
   "outputs": [
    {
     "data": {
      "text/plain": [
       "array([[ True, False, False],\n",
       "       [ True, False, False],\n",
       "       [ True, False, False],\n",
       "       [ True, False, False],\n",
       "       [ True, False, False],\n",
       "       [ True, False, False],\n",
       "       [ True, False, False],\n",
       "       [ True, False, False],\n",
       "       [ True, False, False],\n",
       "       [ True, False, False]])"
      ]
     },
     "execution_count": 144,
     "metadata": {},
     "output_type": "execute_result"
    }
   ],
   "source": [
    "# Transformace cílovéno atributu, který má kategorie 1-3, na pole pravděpodobnosti příslušnosti do třídy\n",
    "# Takže když má me target atribut rovný 2, tak transformace nám vrátí [0, 1, 0]\n",
    "# Tomuto principu se říká one-hot encoding\n",
    "target = pd.get_dummies(data[\"target\"]).to_numpy()\n",
    "target[:10]"
   ]
  },
  {
   "cell_type": "code",
   "execution_count": 145,
   "metadata": {},
   "outputs": [
    {
     "name": "stdout",
     "output_type": "stream",
     "text": [
      "    sepal length (cm)  sepal width (cm)  petal length (cm)  petal width (cm)\n",
      "97                6.2               2.9                4.3               1.3 [False  True False]\n"
     ]
    }
   ],
   "source": [
    "from sklearn.model_selection import train_test_split\n",
    "# https://en.wikipedia.org/wiki/Training,_validation,_and_test_data_sets\n",
    "# https://realpython.com/train-test-split-python-data/\n",
    "\n",
    "x_train, x_test, y_train, y_test = train_test_split(data[feature_names], target, test_size=0.2)\n",
    "print(x_train.head(1), y_train[0])\n",
    "\n",
    "# Více o rozdělení dat:\n",
    "# https://developers.google.com/machine-learning/crash-course/overfitting/dividing-datasets"
   ]
  },
  {
   "cell_type": "code",
   "execution_count": 146,
   "metadata": {},
   "outputs": [
    {
     "name": "stderr",
     "output_type": "stream",
     "text": [
      "/Users/hradzpisku/Documents/Projects/UMIN/.venv/lib/python3.12/site-packages/keras/src/layers/core/dense.py:87: UserWarning: Do not pass an `input_shape`/`input_dim` argument to a layer. When using Sequential models, prefer using an `Input(shape)` object as the first layer in the model instead.\n",
      "  super().__init__(activity_regularizer=activity_regularizer, **kwargs)\n"
     ]
    }
   ],
   "source": [
    "# Vytvoření modelu\n",
    "\n",
    "model = keras.Sequential([\n",
    "    layers.Dense(8, input_shape=[x_train.shape[1]], activation=\"tanh\"),\n",
    "    layers.Dense(8, activation=\"tanh\"),\n",
    "    layers.Dense(8, activation=\"tanh\"),\n",
    "    layers.Dense(3, activation=\"softmax\")\n",
    "])\n",
    "\n",
    "model.compile(\n",
    "\toptimizer=\"adam\",\n",
    "\tloss=\"CategoricalCrossentropy\",\n",
    "    metrics=['binary_accuracy'],\n",
    ")\n",
    "\n",
    "trained = model.fit(\n",
    "    x_train, y_train,\n",
    "    validation_data=(x_test, y_test),\n",
    "    batch_size=32,\n",
    "    epochs=600,\n",
    "    verbose=False,\n",
    ")"
   ]
  },
  {
   "cell_type": "code",
   "execution_count": 147,
   "metadata": {},
   "outputs": [
    {
     "data": {
      "text/plain": [
       "<Axes: >"
      ]
     },
     "execution_count": 147,
     "metadata": {},
     "output_type": "execute_result"
    },
    {
     "data": {
      "image/png": "[encoded data removed]",
      "text/plain": [
       "<Figure size 640x480 with 1 Axes>"
      ]
     },
     "metadata": {},
     "output_type": "display_data"
    }
   ],
   "source": [
    "# „loss“ udává jak dobře si model vede na tréninkových datech\n",
    "\n",
    "history = pd.DataFrame(trained.history)\n",
    "history.loc[5:, ['loss']].plot()"
   ]
  },
  {
   "cell_type": "code",
   "execution_count": 148,
   "metadata": {},
   "outputs": [
    {
     "name": "stdout",
     "output_type": "stream",
     "text": [
      "\u001b[1m1/1\u001b[0m \u001b[32m━━━━━━━━━━━━━━━━━━━━\u001b[0m\u001b[37m\u001b[0m \u001b[1m0s\u001b[0m 12ms/step - binary_accuracy: 1.0000 - loss: 0.0297\n"
     ]
    }
   ],
   "source": [
    "# Vyhodnocení modelu\n",
    "results = model.evaluate(x_test, y_test, batch_size=128)"
   ]
  },
  {
   "cell_type": "code",
   "execution_count": 149,
   "metadata": {},
   "outputs": [
    {
     "data": {
      "text/html": [
       "<div>\n",
       "<style scoped>\n",
       "    .dataframe tbody tr th:only-of-type {\n",
       "        vertical-align: middle;\n",
       "    }\n",
       "\n",
       "    .dataframe tbody tr th {\n",
       "        vertical-align: top;\n",
       "    }\n",
       "\n",
       "    .dataframe thead th {\n",
       "        text-align: right;\n",
       "    }\n",
       "</style>\n",
       "<table border=\"1\" class=\"dataframe\">\n",
       "  <thead>\n",
       "    <tr style=\"text-align: right;\">\n",
       "      <th></th>\n",
       "      <th>sepal length (cm)</th>\n",
       "      <th>sepal width (cm)</th>\n",
       "      <th>petal length (cm)</th>\n",
       "      <th>petal width (cm)</th>\n",
       "      <th>target</th>\n",
       "    </tr>\n",
       "  </thead>\n",
       "  <tbody>\n",
       "    <tr>\n",
       "      <th>92</th>\n",
       "      <td>5.8</td>\n",
       "      <td>2.6</td>\n",
       "      <td>4.0</td>\n",
       "      <td>1.2</td>\n",
       "      <td>1</td>\n",
       "    </tr>\n",
       "    <tr>\n",
       "      <th>132</th>\n",
       "      <td>6.4</td>\n",
       "      <td>2.8</td>\n",
       "      <td>5.6</td>\n",
       "      <td>2.2</td>\n",
       "      <td>2</td>\n",
       "    </tr>\n",
       "    <tr>\n",
       "      <th>13</th>\n",
       "      <td>4.3</td>\n",
       "      <td>3.0</td>\n",
       "      <td>1.1</td>\n",
       "      <td>0.1</td>\n",
       "      <td>0</td>\n",
       "    </tr>\n",
       "    <tr>\n",
       "      <th>27</th>\n",
       "      <td>5.2</td>\n",
       "      <td>3.5</td>\n",
       "      <td>1.5</td>\n",
       "      <td>0.2</td>\n",
       "      <td>0</td>\n",
       "    </tr>\n",
       "    <tr>\n",
       "      <th>125</th>\n",
       "      <td>7.2</td>\n",
       "      <td>3.2</td>\n",
       "      <td>6.0</td>\n",
       "      <td>1.8</td>\n",
       "      <td>2</td>\n",
       "    </tr>\n",
       "    <tr>\n",
       "      <th>67</th>\n",
       "      <td>5.8</td>\n",
       "      <td>2.7</td>\n",
       "      <td>4.1</td>\n",
       "      <td>1.0</td>\n",
       "      <td>1</td>\n",
       "    </tr>\n",
       "    <tr>\n",
       "      <th>59</th>\n",
       "      <td>5.2</td>\n",
       "      <td>2.7</td>\n",
       "      <td>3.9</td>\n",
       "      <td>1.4</td>\n",
       "      <td>1</td>\n",
       "    </tr>\n",
       "    <tr>\n",
       "      <th>149</th>\n",
       "      <td>5.9</td>\n",
       "      <td>3.0</td>\n",
       "      <td>5.1</td>\n",
       "      <td>1.8</td>\n",
       "      <td>2</td>\n",
       "    </tr>\n",
       "    <tr>\n",
       "      <th>121</th>\n",
       "      <td>5.6</td>\n",
       "      <td>2.8</td>\n",
       "      <td>4.9</td>\n",
       "      <td>2.0</td>\n",
       "      <td>2</td>\n",
       "    </tr>\n",
       "    <tr>\n",
       "      <th>143</th>\n",
       "      <td>6.8</td>\n",
       "      <td>3.2</td>\n",
       "      <td>5.9</td>\n",
       "      <td>2.3</td>\n",
       "      <td>2</td>\n",
       "    </tr>\n",
       "  </tbody>\n",
       "</table>\n",
       "</div>"
      ],
      "text/plain": [
       "     sepal length (cm)  sepal width (cm)  petal length (cm)  petal width (cm)  \\\n",
       "92                 5.8               2.6                4.0               1.2   \n",
       "132                6.4               2.8                5.6               2.2   \n",
       "13                 4.3               3.0                1.1               0.1   \n",
       "27                 5.2               3.5                1.5               0.2   \n",
       "125                7.2               3.2                6.0               1.8   \n",
       "67                 5.8               2.7                4.1               1.0   \n",
       "59                 5.2               2.7                3.9               1.4   \n",
       "149                5.9               3.0                5.1               1.8   \n",
       "121                5.6               2.8                4.9               2.0   \n",
       "143                6.8               3.2                5.9               2.3   \n",
       "\n",
       "     target  \n",
       "92        1  \n",
       "132       2  \n",
       "13        0  \n",
       "27        0  \n",
       "125       2  \n",
       "67        1  \n",
       "59        1  \n",
       "149       2  \n",
       "121       2  \n",
       "143       2  "
      ]
     },
     "execution_count": 149,
     "metadata": {},
     "output_type": "execute_result"
    }
   ],
   "source": [
    "# Co to tedy model vrací a jak jej využít?\n",
    "random_ten = data.sample(frac=0.1).head(10)\n",
    "random_ten"
   ]
  },
  {
   "cell_type": "code",
   "execution_count": 150,
   "metadata": {},
   "outputs": [
    {
     "data": {
      "text/plain": [
       "array([[0.  , 1.  , 0.  ],\n",
       "       [0.  , 0.  , 1.  ],\n",
       "       [1.  , 0.  , 0.  ],\n",
       "       [1.  , 0.  , 0.  ],\n",
       "       [0.  , 0.02, 0.98],\n",
       "       [0.  , 1.  , 0.  ],\n",
       "       [0.  , 1.  , 0.  ],\n",
       "       [0.  , 0.1 , 0.9 ],\n",
       "       [0.  , 0.02, 0.98],\n",
       "       [0.  , 0.  , 1.  ]], dtype=float32)"
      ]
     },
     "execution_count": 150,
     "metadata": {},
     "output_type": "execute_result"
    }
   ],
   "source": [
    "pred = model.predict(random_ten[feature_names], verbose=False)\n",
    "np.round(pred, 2)\n",
    "\n",
    "# Lze vidět, že díky softmax je součet pravděpodobností roven 1"
   ]
  }
 ],
 "metadata": {
  "kernelspec": {
   "display_name": ".venv",
   "language": "python",
   "name": "python3"
  },
  "language_info": {
   "codemirror_mode": {
    "name": "ipython",
    "version": 3
   },
   "file_extension": ".py",
   "mimetype": "text/x-python",
   "name": "python",
   "nbconvert_exporter": "python",
   "pygments_lexer": "ipython3",
   "version": "3.12.3"
  }
 },
 "nbformat": 4,
 "nbformat_minor": 2
}

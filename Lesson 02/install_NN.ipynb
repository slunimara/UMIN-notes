{
 "cells": [
  {
   "cell_type": "code",
   "execution_count": null,
   "metadata": {
    "vscode": {
     "languageId": "bat"
    }
   },
   "outputs": [],
   "source": [
    "# To uninstall all packages from virtual enviroment use the following commands\n",
    "pip3 freeze > requirements.txt\n",
    "pip3 uninstall -y -r requirements.txt"
   ]
  },
  {
   "cell_type": "code",
   "execution_count": null,
   "metadata": {
    "vscode": {
     "languageId": "bat"
    }
   },
   "outputs": [],
   "source": [
    "# Additional packages\n",
    "pip3 install numpy pandas matplotlib seaborn scikit-learn\n",
    "\n",
    "# For Numpy\n",
    "# https://numpy.org/devdocs/user/quickstart.html\n",
    "\n",
    "# For Pandas\n",
    "# https://pandas.pydata.org/docs/getting_started/intro_tutorials\n",
    "# https://pandas.pydata.org/Pandas_Cheat_Sheet.pdf\n",
    "\n",
    "# For Matplotlib\n",
    "# https://matplotlib.org/stable/users/getting_started/\n",
    "\n",
    "# For Seaborn\n",
    "# https://seaborn.pydata.org/tutorial/introduction.html\n",
    "\n",
    "# For Scikit-learn\n",
    "# https://scikit-learn.org/stable/user_guide.html"
   ]
  },
  {
   "cell_type": "code",
   "execution_count": null,
   "metadata": {
    "vscode": {
     "languageId": "bat"
    }
   },
   "outputs": [],
   "source": [
    "# Install TensorFlow as backend for Keras\n",
    "pip3 install tensorflow\n",
    "# For mac: pip3 install tensorflow tensorflow-macos\n",
    "\n",
    "# Install Keras for Neural Networks\n",
    "pip3 install --upgrade keras"
   ]
  },
  {
   "cell_type": "code",
   "execution_count": null,
   "metadata": {},
   "outputs": [],
   "source": [
    "import os\n",
    "\n",
    "# This guide can only be run with the TF backend.\n",
    "os.environ[\"KERAS_BACKEND\"] = \"tensorflow\"\n",
    "\n",
    "import tensorflow as tf\n",
    "import keras\n",
    "\n",
    "print(f\"TensorFlow version: {tf.__version__}\")\n",
    "print(f\"Keras version: {keras.__version__}\")"
   ]
  },
  {
   "cell_type": "code",
   "execution_count": null,
   "metadata": {},
   "outputs": [],
   "source": [
    "# https://keras.io/getting_started/intro_to_keras_for_engineers/"
   ]
  }
 ],
 "metadata": {
  "kernelspec": {
   "display_name": "e",
   "language": "python",
   "name": "python3"
  },
  "language_info": {
   "codemirror_mode": {
    "name": "ipython",
    "version": 3
   },
   "file_extension": ".py",
   "mimetype": "text/x-python",
   "name": "python",
   "nbconvert_exporter": "python",
   "pygments_lexer": "ipython3",
   "version": "3.12.3"
  }
 },
 "nbformat": 4,
 "nbformat_minor": 2
}

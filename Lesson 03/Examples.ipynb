{
 "cells": [
  {
   "cell_type": "code",
   "execution_count": null,
   "metadata": {},
   "outputs": [],
   "source": [
    "# Importujeme si opět knihovny jako minule\n",
    "import numpy as np\n",
    "import pandas as pd\n",
    "import matplotlib.pyplot as plt\n",
    "import seaborn as sns\n",
    "\n",
    "import os\n",
    "\n",
    "os.environ[\"KERAS_BACKEND\"] = \"tensorflow\"\n",
    "\n",
    "import tensorflow as tf\n",
    "import keras\n",
    "\n",
    "print(f\"TensorFlow version: {tf.__version__}\")\n",
    "print(f\"Keras version: {keras.__version__}\")\n",
    "\n",
    "from keras import layers\n",
    "%matplotlib ipympl"
   ]
  },
  {
   "cell_type": "code",
   "execution_count": null,
   "metadata": {},
   "outputs": [],
   "source": [
    "# Informace o datasetu: \n",
    "# https://keras.io/api/datasets/california_housing/\n",
    "from keras.datasets import california_housing\n",
    "\n",
    "(train_data, train_target), (test_data, test_target) = california_housing.load_data(version=\"small\")\n",
    "\n",
    "feature_names = [\n",
    "    \"MedInc\",\n",
    "    \"HouseAge\",\n",
    "    \"AveRooms\",\n",
    "    \"AveBedrms\",\n",
    "    \"Population\",\n",
    "    \"AveOccup\",\n",
    "    \"Latitude\",\n",
    "    \"Longitude\"\n",
    "]\n",
    "\n",
    "target_names = [\"MedianHouseValue\"]\n",
    "\n",
    "train_data.shape, test_data.shape"
   ]
  },
  {
   "cell_type": "code",
   "execution_count": null,
   "metadata": {},
   "outputs": [],
   "source": [
    "train_target = train_target / 1000\n",
    "test_target = test_target / 1000\n",
    "\n",
    "\"mean: {}, min: {}, max: {}\".format(test_target.mean(), test_target.min(), test_target.max())"
   ]
  },
  {
   "cell_type": "code",
   "execution_count": null,
   "metadata": {},
   "outputs": [],
   "source": [
    "pd.DataFrame(train_data, columns=feature_names).head(10)"
   ]
  },
  {
   "cell_type": "code",
   "execution_count": null,
   "metadata": {},
   "outputs": [],
   "source": [
    "from sklearn.model_selection import train_test_split\n",
    "x_train, x_validate, y_train, y_validate = train_test_split(train_data, train_target, test_size=0.2)\n",
    "\n",
    "x_train.shape, x_validate.shape"
   ]
  },
  {
   "cell_type": "code",
   "execution_count": 9,
   "metadata": {},
   "outputs": [],
   "source": [
    "def normalize(data):\n",
    "    mean = data.mean(axis=0)\n",
    "    std = data.std(axis=0)\n",
    "    return (data - mean) / std\n",
    "\n",
    "x_train = normalize(x_train)\n",
    "x_validate = normalize(x_validate)\n",
    "\n",
    "train_data = normalize(train_data)\n",
    "test_data = normalize(test_data)"
   ]
  },
  {
   "cell_type": "code",
   "execution_count": null,
   "metadata": {},
   "outputs": [],
   "source": [
    "from sklearn.model_selection import KFold\n",
    "\n",
    "def build_model():\n",
    "    model = keras.Sequential([\n",
    "        layers.Dense(64, activation=\"relu\", input_shape=(train_data.shape[1],)),\n",
    "        layers.Dense(64, activation=\"relu\"),\n",
    "        layers.Dense(1)\n",
    "    ])\n",
    "\n",
    "    model.compile(optimizer=\"adam\", loss=\"mse\", metrics=[\"mae\"])\n",
    "    return model\n",
    "\n",
    "kf = KFold(n_splits=10)\n",
    "for train_idx, valid_idx in kf.split(train_data, train_target):\n",
    "    # print(train_idx.shape, valid_idx.shape)\n",
    "    kf_x_train = normalize(train_data[train_idx])\n",
    "    kf_x_validate = normalize(train_data[valid_idx])\n",
    "\n",
    "    model = build_model()\n",
    "    model.fit(\n",
    "        kf_x_train, train_target[train_idx],\n",
    "        validation_data=(kf_x_validate, train_target[valid_idx]),\n",
    "        epochs=10,\n",
    "        batch_size=8,\n",
    "        verbose=0\n",
    "    )\n",
    "    model.evaluate(kf_x_validate, train_target[valid_idx], batch_size=8)\n",
    "    # Ukládám si výsledky metriky a modely a nejlepší nakonec vyberu."
   ]
  },
  {
   "cell_type": "code",
   "execution_count": 11,
   "metadata": {},
   "outputs": [],
   "source": [
    "model = keras.Sequential([\n",
    "    layers.Dense(128, input_shape=[x_train.shape[1]], activation=\"relu\"),\n",
    "    layers.Dense(128, activation=\"relu\"),\n",
    "    layers.Dense(1)\n",
    "])\n",
    "\n",
    "model.compile(\n",
    "\toptimizer=\"adam\",\n",
    "\tloss=\"mse\", # Mean Squared Error – loss function\n",
    "    metrics=['mae'], \n",
    "        # Mean Absolute Error – regression metric\n",
    "        # vzorec: sum(abs(y_true - y_pred)) / n\n",
    "        # MAE 0,5 v tomto problému by znamenalo, že vaše předpovědi jsou v průměru o 500 dolarů nižší.\n",
    ")\n",
    "\n",
    "trained = model.fit(\n",
    "    x_train, y_train,\n",
    "    validation_data=(x_validate, y_validate),\n",
    "    batch_size=4,\n",
    "    epochs=300,\n",
    "    verbose=False,\n",
    ")"
   ]
  },
  {
   "cell_type": "code",
   "execution_count": null,
   "metadata": {},
   "outputs": [],
   "source": [
    "history = pd.DataFrame(trained.history)\n",
    "\n",
    "history.loc[10:, ['loss', 'val_loss']].plot()\n",
    "# history.loc[10:, ['mae', 'val_mae']].plot()\n",
    "\n",
    "# V poslední epoše.\n",
    "history.iloc[-1]\n",
    "\n",
    "# Vidíme, že zhruba po 100 epoše se model začíná přeučovat"
   ]
  },
  {
   "cell_type": "code",
   "execution_count": null,
   "metadata": {},
   "outputs": [],
   "source": [
    "# Vyhodnocení modelu\n",
    "results = model.evaluate(test_data, test_target, batch_size=32)"
   ]
  },
  {
   "cell_type": "code",
   "execution_count": null,
   "metadata": {},
   "outputs": [],
   "source": [
    "model = keras.Sequential([\n",
    "    layers.Dense(128, input_shape=[x_train.shape[1]], activation=\"relu\"),\n",
    "    layers.Dense(128, activation=\"relu\"),\n",
    "    layers.Dropout(0.2),\n",
    "    layers.Dense(1)\n",
    "])\n",
    "\n",
    "model.compile(\n",
    "\toptimizer=\"adam\",\n",
    "\tloss=\"mse\",\n",
    "    metrics=['mae'],\n",
    ")\n",
    "\n",
    "trained = model.fit(\n",
    "    x_train, y_train,\n",
    "    validation_data=(x_validate, y_validate),\n",
    "    batch_size=16,\n",
    "    epochs=500,\n",
    "    verbose=False,\n",
    ")"
   ]
  },
  {
   "cell_type": "code",
   "execution_count": null,
   "metadata": {},
   "outputs": [],
   "source": [
    "history = pd.DataFrame(trained.history)\n",
    "\n",
    "history.loc[10:, ['loss', 'val_loss']].plot()\n",
    "history.loc[10:, ['mae', 'val_mae']].plot()\n",
    "\n",
    "# V poslední epoše.\n",
    "history.iloc[-1]"
   ]
  },
  {
   "cell_type": "code",
   "execution_count": 16,
   "metadata": {},
   "outputs": [],
   "source": [
    "# Pokud máme připravenou architekturu a konfiguraci modelu, můžeme model natrénovat na celé trénovací množině.\n",
    "trained = model.fit(\n",
    "    train_data, train_target,\n",
    "    validation_data=(test_data, test_target),\n",
    "    batch_size=16,\n",
    "    epochs=500,\n",
    "    verbose=False,\n",
    ")"
   ]
  },
  {
   "cell_type": "code",
   "execution_count": null,
   "metadata": {},
   "outputs": [],
   "source": [
    "history = pd.DataFrame(trained.history)\n",
    "\n",
    "history.loc[10:, ['loss', 'val_loss']].plot()\n",
    "# history.loc[10:, ['mae', 'val_mae']].plot()\n",
    "\n",
    "# V poslední epoše.\n",
    "history.iloc[-1]\n",
    "\n",
    "# Co je tady za chybu?"
   ]
  },
  {
   "cell_type": "code",
   "execution_count": null,
   "metadata": {},
   "outputs": [],
   "source": [
    "# Vyhodnocení modelu\n",
    "results = model.evaluate(test_data, test_target, batch_size=32)"
   ]
  },
  {
   "cell_type": "code",
   "execution_count": null,
   "metadata": {},
   "outputs": [],
   "source": [
    "# Sami si vyzkoušejte ladění hyperparametrů a architektury modelu."
   ]
  }
 ],
 "metadata": {
  "kernelspec": {
   "display_name": ".venv",
   "language": "python",
   "name": "python3"
  },
  "language_info": {
   "codemirror_mode": {
    "name": "ipython",
    "version": 3
   },
   "file_extension": ".py",
   "mimetype": "text/x-python",
   "name": "python",
   "nbconvert_exporter": "python",
   "pygments_lexer": "ipython3",
   "version": "3.12.3"
  }
 },
 "nbformat": 4,
 "nbformat_minor": 2
}
